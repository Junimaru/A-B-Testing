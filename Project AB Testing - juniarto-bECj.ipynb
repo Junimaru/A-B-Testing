{
 "cells": [
  {
   "cell_type": "markdown",
   "id": "b18f4b75-8e11-41ed-b47f-474d4b19f7d1",
   "metadata": {},
   "source": [
    "# A/B TESTING FOR MARKETING CAMAPIGN\n",
    "## A/B Testing Project - Juniarto Kurniawan"
   ]
  },
  {
   "cell_type": "markdown",
   "id": "dc146dd6-1ada-43d9-bde8-317f180c7972",
   "metadata": {},
   "source": [
    "### Daftar Isi Desain Eksperimen"
   ]
  },
  {
   "cell_type": "markdown",
   "id": "2a2d956a-f040-4bba-b458-6158b6575047",
   "metadata": {},
   "source": [
    "### Part I - Introduction"
   ]
  },
  {
   "cell_type": "markdown",
   "id": "1c236893-ec88-45e6-be0a-200bee8c156c",
   "metadata": {},
   "source": [
    "Sebuah Marketing Perusahaan ingin melakukan kampanye yang sukses. Strategi kampanye  perusahaan saat ini hanya bergantung pada Public Services Announcement (PSA). Perusahaan inngin melakukan strategi baru menggunakan iklan. Namun Perusahaan masih tidak yakin apakah iklan baru yang akan di kampanyekan akan sukses menaikkan User Conversion atau tidak. Oleh karena itu maka sebagai data analyst perlu membuat solusi agar kampanye tersebut dapat dilhat hasilnya secara efektif. Salah satu analisis yang dapat dilakukan adalah dengan menggunakan A/B Testing.\n",
    "Pengambilan data dilakukan dengan mengukur beberapa parameter yaitu :\n",
    "1. Usert id \t: User ID pelanggan (unique)\n",
    "2. Test Group \t: terdiri dari 2 kategori yaitu “Ad” – Orang yang melihat iklan kampanye terbaru dan “PSA” – Orang yang hanya melihat melalui Public Service Announcement.\n",
    "3. Converted\t: Orang yang telah membeli produk\n",
    "4. Total ads \t: Jumlah iklan yang dilihat oleh tiap orang\n",
    "5. Most Ads day\t: Hari dimana orang melihat jumlah iklan yang paling besar\n",
    "6. Most ads hour\t: jam dimana orang melihat jumlah iklan yang paling besar\n",
    "\n",
    "Experiment Goal\n",
    "Tujuan dari dilakukan perubahan kampamanye ini adalah apakah desain kampanye terbaru yang melalui iklan akan lebih sukses dari sebelumnya sehingga dapat meningkatkan revenue?\n",
    "\n",
    "\n",
    "Choosing Metrics\n",
    "Driver Metrics : Conversion Rate atas iklan tersebut, semakin banyak orang yang convert setelah melihat iklan tersebut maka semakin sukses kampanyenya.\n",
    "Guardrail Metrics : jumlah unique user pada tiap grup (ads dan PSA), dimana karena ini akan melakukan kampanye baru maka mayoritas orang akan terekspose kampanye baru (experimental group) dan Sebagian kecil untuk orang yang terekspose PSA (Control Group)"
   ]
  },
  {
   "cell_type": "markdown",
   "id": "33573b22-8f24-4849-afb0-e9f9e86273ec",
   "metadata": {},
   "source": [
    "### Part II - Menghitung Ukuran Sample dengan Power Analysis"
   ]
  },
  {
   "cell_type": "markdown",
   "id": "6e367c4b-d1ac-4dd1-ae7d-35a1b0ab999a",
   "metadata": {},
   "source": [
    "- Remember, we can use the given formula to calculate the minimum number of sample size needed.\n",
    "\n",
    "$$\n",
    "n = \\cfrac{2 \\sigma^2 (z_{1-\\alpha/2}+z_{1-\\beta})^2}{\\delta^2}\n",
    "$$"
   ]
  },
  {
   "cell_type": "markdown",
   "id": "7e4a5b91-fc92-4b25-b84a-dce14b6eb099",
   "metadata": {},
   "source": [
    "- Thus, if we have the $z$ value, we can determine the number of sample.\n",
    "- Let's find it.\n",
    "\n",
    "Penentuan Asumsi:\n",
    "- Karena menginkan ukuran sampel yang cukup besar maka standar deviasi standar deviasi diasumsikan sebesar 7%\n",
    "- Significant value yang umum digunakan untuk penelitian non medis (penelitian yang bukan menyangkut nyawa/ laboratorium) maka diasumsikan sebesar 5%\n",
    "- Karena berdasarkan keputusan manajemen akan lebih profitable jika effect size meningkat sebesar 1%.\n",
    "- Power level akan mengikuti yang dianjurkan oleh berbagai literatur yaitu 80%."
   ]
  },
  {
   "cell_type": "code",
   "execution_count": 1,
   "id": "f6448d99-2b16-4541-8e2c-8cf5a7731a91",
   "metadata": {},
   "outputs": [
    {
     "name": "stdout",
     "output_type": "stream",
     "text": [
      "Number of sample size needed    : 769.19\n"
     ]
    }
   ],
   "source": [
    "from scipy import stats\n",
    "\n",
    "# Given\n",
    "delta = 0.01        # absolute increase of two groups means\n",
    "alpha = 0.05        # significance level\n",
    "power = 0.8         # power\n",
    "std_dev = 0.07      # variance of population (assumed / approximated)\n",
    "\n",
    "# calculate beta\n",
    "beta = 1 - power\n",
    "\n",
    "# calculate the z value\n",
    "z_alpha = stats.norm.ppf(1 - alpha/2)\n",
    "z_beta = stats.norm.ppf(1 - beta)\n",
    "\n",
    "# then calculate the number of sample size\n",
    "n = 2 * (std_dev**2) * ((z_alpha+z_beta)**2) / (delta**2)\n",
    "\n",
    "print(f\"Number of sample size needed    : {n:.2f}\")"
   ]
  },
  {
   "cell_type": "markdown",
   "id": "f14a375e-0abc-49ea-b1d8-a74c68c1d69b",
   "metadata": {},
   "source": [
    "Ukuran sample untuk masing-masing grup adalah sebesar 770 sample."
   ]
  },
  {
   "cell_type": "markdown",
   "id": "d27dd88a-4643-404b-840b-8b06249229dd",
   "metadata": {},
   "source": [
    "Secara Ideal Eksperimen dilakukan dengan mendeliver kampanye selama tiga hari kemudian kita ambil data terhadap orang2 yang terekspos kampanye baru (ads) maupun kampanye lama (PSA) secara random sesuai dengan kebutuhan sampel. Kemudian dilakukan pengukuran dengan melihat Convert Rate dari user target tersebut"
   ]
  },
  {
   "cell_type": "markdown",
   "id": "1c4d2e5a-637f-4f39-a1d7-5ca183d43928",
   "metadata": {},
   "source": [
    "### Part III - Running Experiment & Obtaining Data"
   ]
  },
  {
   "cell_type": "markdown",
   "id": "34d2face-e605-46af-a960-bb5a6e6d0b1c",
   "metadata": {},
   "source": [
    "Pada kasus kali ini telah diberikan datasetnya, sehingga kita melakukan pengambilan sample sebanyak 770 sample pada masing-grup dengan cara randomsasi."
   ]
  },
  {
   "cell_type": "markdown",
   "id": "981eb828-0e22-476c-bd96-705102b28f59",
   "metadata": {},
   "source": [
    "#### Load Data"
   ]
  },
  {
   "cell_type": "code",
   "execution_count": 2,
   "id": "fcce58c3-5a13-4588-baf9-c3cb5630f529",
   "metadata": {},
   "outputs": [],
   "source": [
    "# load data\n",
    "import pandas as pd\n",
    "import numpy as np"
   ]
  },
  {
   "cell_type": "code",
   "execution_count": 3,
   "id": "db52bffa-4350-403e-8007-999663f59138",
   "metadata": {},
   "outputs": [
    {
     "data": {
      "text/html": [
       "<div>\n",
       "<style scoped>\n",
       "    .dataframe tbody tr th:only-of-type {\n",
       "        vertical-align: middle;\n",
       "    }\n",
       "\n",
       "    .dataframe tbody tr th {\n",
       "        vertical-align: top;\n",
       "    }\n",
       "\n",
       "    .dataframe thead th {\n",
       "        text-align: right;\n",
       "    }\n",
       "</style>\n",
       "<table border=\"1\" class=\"dataframe\">\n",
       "  <thead>\n",
       "    <tr style=\"text-align: right;\">\n",
       "      <th></th>\n",
       "      <th>Unnamed: 0</th>\n",
       "      <th>user_id</th>\n",
       "      <th>test_group</th>\n",
       "      <th>converted</th>\n",
       "      <th>total_ads</th>\n",
       "      <th>most_ads_day</th>\n",
       "      <th>most_ads_hour</th>\n",
       "    </tr>\n",
       "  </thead>\n",
       "  <tbody>\n",
       "    <tr>\n",
       "      <th>0</th>\n",
       "      <td>0</td>\n",
       "      <td>1069124</td>\n",
       "      <td>ad</td>\n",
       "      <td>False</td>\n",
       "      <td>130</td>\n",
       "      <td>Monday</td>\n",
       "      <td>20</td>\n",
       "    </tr>\n",
       "    <tr>\n",
       "      <th>1</th>\n",
       "      <td>1</td>\n",
       "      <td>1119715</td>\n",
       "      <td>ad</td>\n",
       "      <td>False</td>\n",
       "      <td>93</td>\n",
       "      <td>Tuesday</td>\n",
       "      <td>22</td>\n",
       "    </tr>\n",
       "    <tr>\n",
       "      <th>2</th>\n",
       "      <td>2</td>\n",
       "      <td>1144181</td>\n",
       "      <td>ad</td>\n",
       "      <td>False</td>\n",
       "      <td>21</td>\n",
       "      <td>Tuesday</td>\n",
       "      <td>18</td>\n",
       "    </tr>\n",
       "    <tr>\n",
       "      <th>3</th>\n",
       "      <td>3</td>\n",
       "      <td>1435133</td>\n",
       "      <td>ad</td>\n",
       "      <td>False</td>\n",
       "      <td>355</td>\n",
       "      <td>Tuesday</td>\n",
       "      <td>10</td>\n",
       "    </tr>\n",
       "    <tr>\n",
       "      <th>4</th>\n",
       "      <td>4</td>\n",
       "      <td>1015700</td>\n",
       "      <td>ad</td>\n",
       "      <td>False</td>\n",
       "      <td>276</td>\n",
       "      <td>Friday</td>\n",
       "      <td>14</td>\n",
       "    </tr>\n",
       "  </tbody>\n",
       "</table>\n",
       "</div>"
      ],
      "text/plain": [
       "   Unnamed: 0  user_id test_group  converted  total_ads most_ads_day  \\\n",
       "0           0  1069124         ad      False        130       Monday   \n",
       "1           1  1119715         ad      False         93      Tuesday   \n",
       "2           2  1144181         ad      False         21      Tuesday   \n",
       "3           3  1435133         ad      False        355      Tuesday   \n",
       "4           4  1015700         ad      False        276       Friday   \n",
       "\n",
       "   most_ads_hour  \n",
       "0             20  \n",
       "1             22  \n",
       "2             18  \n",
       "3             10  \n",
       "4             14  "
      ]
     },
     "execution_count": 3,
     "metadata": {},
     "output_type": "execute_result"
    }
   ],
   "source": [
    "#Load Dataset Sample\n",
    "data = pd.read_csv(r'D:\\PELATIHAN DATA SCIENCE\\AB Testing\\marketing_AB.csv')\n",
    "data.head()"
   ]
  },
  {
   "cell_type": "code",
   "execution_count": 4,
   "id": "ee25ffa8-1912-4a6f-8a3a-51ab201a11fc",
   "metadata": {},
   "outputs": [
    {
     "name": "stdout",
     "output_type": "stream",
     "text": [
      "<class 'pandas.core.frame.DataFrame'>\n",
      "RangeIndex: 588101 entries, 0 to 588100\n",
      "Data columns (total 7 columns):\n",
      " #   Column         Non-Null Count   Dtype \n",
      "---  ------         --------------   ----- \n",
      " 0   Unnamed: 0     588101 non-null  int64 \n",
      " 1   user_id        588101 non-null  int64 \n",
      " 2   test_group     588101 non-null  object\n",
      " 3   converted      588101 non-null  bool  \n",
      " 4   total_ads      588101 non-null  int64 \n",
      " 5   most_ads_day   588101 non-null  object\n",
      " 6   most_ads_hour  588101 non-null  int64 \n",
      "dtypes: bool(1), int64(4), object(2)\n",
      "memory usage: 27.5+ MB\n"
     ]
    }
   ],
   "source": [
    "data.info()"
   ]
  },
  {
   "cell_type": "code",
   "execution_count": 5,
   "id": "5fc1cdbf-c6bf-4bba-94be-a15a81d76f85",
   "metadata": {},
   "outputs": [
    {
     "data": {
      "text/plain": [
       "converted\n",
       "False    573258\n",
       "True      14843\n",
       "Name: converted, dtype: int64"
      ]
     },
     "execution_count": 5,
     "metadata": {},
     "output_type": "execute_result"
    }
   ],
   "source": [
    "data.groupby(['converted'])['converted'].count()"
   ]
  },
  {
   "cell_type": "code",
   "execution_count": 6,
   "id": "1791a4a2-a1e0-4544-abf0-0ada02899bac",
   "metadata": {},
   "outputs": [
    {
     "data": {
      "text/html": [
       "<div>\n",
       "<style scoped>\n",
       "    .dataframe tbody tr th:only-of-type {\n",
       "        vertical-align: middle;\n",
       "    }\n",
       "\n",
       "    .dataframe tbody tr th {\n",
       "        vertical-align: top;\n",
       "    }\n",
       "\n",
       "    .dataframe thead th {\n",
       "        text-align: right;\n",
       "    }\n",
       "</style>\n",
       "<table border=\"1\" class=\"dataframe\">\n",
       "  <thead>\n",
       "    <tr style=\"text-align: right;\">\n",
       "      <th></th>\n",
       "      <th>Unnamed: 0</th>\n",
       "      <th>user_id</th>\n",
       "      <th>test_group</th>\n",
       "      <th>converted</th>\n",
       "      <th>total_ads</th>\n",
       "      <th>most_ads_day</th>\n",
       "      <th>most_ads_hour</th>\n",
       "    </tr>\n",
       "  </thead>\n",
       "  <tbody>\n",
       "    <tr>\n",
       "      <th>0</th>\n",
       "      <td>0</td>\n",
       "      <td>1069124</td>\n",
       "      <td>ad</td>\n",
       "      <td>False</td>\n",
       "      <td>130</td>\n",
       "      <td>Monday</td>\n",
       "      <td>20</td>\n",
       "    </tr>\n",
       "    <tr>\n",
       "      <th>1</th>\n",
       "      <td>1</td>\n",
       "      <td>1119715</td>\n",
       "      <td>ad</td>\n",
       "      <td>False</td>\n",
       "      <td>93</td>\n",
       "      <td>Tuesday</td>\n",
       "      <td>22</td>\n",
       "    </tr>\n",
       "    <tr>\n",
       "      <th>2</th>\n",
       "      <td>2</td>\n",
       "      <td>1144181</td>\n",
       "      <td>ad</td>\n",
       "      <td>False</td>\n",
       "      <td>21</td>\n",
       "      <td>Tuesday</td>\n",
       "      <td>18</td>\n",
       "    </tr>\n",
       "    <tr>\n",
       "      <th>3</th>\n",
       "      <td>3</td>\n",
       "      <td>1435133</td>\n",
       "      <td>ad</td>\n",
       "      <td>False</td>\n",
       "      <td>355</td>\n",
       "      <td>Tuesday</td>\n",
       "      <td>10</td>\n",
       "    </tr>\n",
       "    <tr>\n",
       "      <th>4</th>\n",
       "      <td>4</td>\n",
       "      <td>1015700</td>\n",
       "      <td>ad</td>\n",
       "      <td>False</td>\n",
       "      <td>276</td>\n",
       "      <td>Friday</td>\n",
       "      <td>14</td>\n",
       "    </tr>\n",
       "  </tbody>\n",
       "</table>\n",
       "</div>"
      ],
      "text/plain": [
       "   Unnamed: 0  user_id test_group  converted  total_ads most_ads_day  \\\n",
       "0           0  1069124         ad      False        130       Monday   \n",
       "1           1  1119715         ad      False         93      Tuesday   \n",
       "2           2  1144181         ad      False         21      Tuesday   \n",
       "3           3  1435133         ad      False        355      Tuesday   \n",
       "4           4  1015700         ad      False        276       Friday   \n",
       "\n",
       "   most_ads_hour  \n",
       "0             20  \n",
       "1             22  \n",
       "2             18  \n",
       "3             10  \n",
       "4             14  "
      ]
     },
     "execution_count": 6,
     "metadata": {},
     "output_type": "execute_result"
    }
   ],
   "source": [
    "user_ad = data[(data.test_group == \"ad\")]\n",
    "user_ad.head()"
   ]
  },
  {
   "cell_type": "code",
   "execution_count": 7,
   "id": "da993a86-4e78-4f70-b04f-c28cc71d6c5f",
   "metadata": {},
   "outputs": [
    {
     "data": {
      "text/html": [
       "<div>\n",
       "<style scoped>\n",
       "    .dataframe tbody tr th:only-of-type {\n",
       "        vertical-align: middle;\n",
       "    }\n",
       "\n",
       "    .dataframe tbody tr th {\n",
       "        vertical-align: top;\n",
       "    }\n",
       "\n",
       "    .dataframe thead th {\n",
       "        text-align: right;\n",
       "    }\n",
       "</style>\n",
       "<table border=\"1\" class=\"dataframe\">\n",
       "  <thead>\n",
       "    <tr style=\"text-align: right;\">\n",
       "      <th></th>\n",
       "      <th>Unnamed: 0</th>\n",
       "      <th>user_id</th>\n",
       "      <th>test_group</th>\n",
       "      <th>converted</th>\n",
       "      <th>total_ads</th>\n",
       "      <th>most_ads_day</th>\n",
       "      <th>most_ads_hour</th>\n",
       "    </tr>\n",
       "  </thead>\n",
       "  <tbody>\n",
       "    <tr>\n",
       "      <th>18</th>\n",
       "      <td>18</td>\n",
       "      <td>900681</td>\n",
       "      <td>psa</td>\n",
       "      <td>False</td>\n",
       "      <td>248</td>\n",
       "      <td>Saturday</td>\n",
       "      <td>19</td>\n",
       "    </tr>\n",
       "    <tr>\n",
       "      <th>38</th>\n",
       "      <td>38</td>\n",
       "      <td>905704</td>\n",
       "      <td>psa</td>\n",
       "      <td>False</td>\n",
       "      <td>27</td>\n",
       "      <td>Thursday</td>\n",
       "      <td>8</td>\n",
       "    </tr>\n",
       "    <tr>\n",
       "      <th>68</th>\n",
       "      <td>68</td>\n",
       "      <td>904595</td>\n",
       "      <td>psa</td>\n",
       "      <td>False</td>\n",
       "      <td>13</td>\n",
       "      <td>Tuesday</td>\n",
       "      <td>19</td>\n",
       "    </tr>\n",
       "    <tr>\n",
       "      <th>140</th>\n",
       "      <td>140</td>\n",
       "      <td>901904</td>\n",
       "      <td>psa</td>\n",
       "      <td>False</td>\n",
       "      <td>32</td>\n",
       "      <td>Wednesday</td>\n",
       "      <td>19</td>\n",
       "    </tr>\n",
       "    <tr>\n",
       "      <th>157</th>\n",
       "      <td>157</td>\n",
       "      <td>902234</td>\n",
       "      <td>psa</td>\n",
       "      <td>False</td>\n",
       "      <td>105</td>\n",
       "      <td>Tuesday</td>\n",
       "      <td>19</td>\n",
       "    </tr>\n",
       "  </tbody>\n",
       "</table>\n",
       "</div>"
      ],
      "text/plain": [
       "     Unnamed: 0  user_id test_group  converted  total_ads most_ads_day  \\\n",
       "18           18   900681        psa      False        248     Saturday   \n",
       "38           38   905704        psa      False         27     Thursday   \n",
       "68           68   904595        psa      False         13      Tuesday   \n",
       "140         140   901904        psa      False         32    Wednesday   \n",
       "157         157   902234        psa      False        105      Tuesday   \n",
       "\n",
       "     most_ads_hour  \n",
       "18              19  \n",
       "38               8  \n",
       "68              19  \n",
       "140             19  \n",
       "157             19  "
      ]
     },
     "execution_count": 7,
     "metadata": {},
     "output_type": "execute_result"
    }
   ],
   "source": [
    "user_psa = data[(data.test_group == \"psa\")]\n",
    "user_psa.head()"
   ]
  },
  {
   "cell_type": "markdown",
   "id": "3a1fac4e-6edb-4c75-a6fc-9a661c03d2b7",
   "metadata": {},
   "source": [
    "#### Randomisasi Sample"
   ]
  },
  {
   "cell_type": "code",
   "execution_count": 8,
   "id": "96a5bf5d-a2b7-4451-8c39-0581efcda07a",
   "metadata": {},
   "outputs": [
    {
     "data": {
      "text/html": [
       "<div>\n",
       "<style scoped>\n",
       "    .dataframe tbody tr th:only-of-type {\n",
       "        vertical-align: middle;\n",
       "    }\n",
       "\n",
       "    .dataframe tbody tr th {\n",
       "        vertical-align: top;\n",
       "    }\n",
       "\n",
       "    .dataframe thead th {\n",
       "        text-align: right;\n",
       "    }\n",
       "</style>\n",
       "<table border=\"1\" class=\"dataframe\">\n",
       "  <thead>\n",
       "    <tr style=\"text-align: right;\">\n",
       "      <th></th>\n",
       "      <th>Unnamed: 0</th>\n",
       "      <th>user_id</th>\n",
       "      <th>test_group</th>\n",
       "      <th>converted</th>\n",
       "      <th>total_ads</th>\n",
       "      <th>most_ads_day</th>\n",
       "      <th>most_ads_hour</th>\n",
       "    </tr>\n",
       "  </thead>\n",
       "  <tbody>\n",
       "    <tr>\n",
       "      <th>60858</th>\n",
       "      <td>60858</td>\n",
       "      <td>1525830</td>\n",
       "      <td>ad</td>\n",
       "      <td>False</td>\n",
       "      <td>5</td>\n",
       "      <td>Saturday</td>\n",
       "      <td>17</td>\n",
       "    </tr>\n",
       "    <tr>\n",
       "      <th>50703</th>\n",
       "      <td>50703</td>\n",
       "      <td>1513094</td>\n",
       "      <td>ad</td>\n",
       "      <td>False</td>\n",
       "      <td>59</td>\n",
       "      <td>Thursday</td>\n",
       "      <td>10</td>\n",
       "    </tr>\n",
       "    <tr>\n",
       "      <th>552126</th>\n",
       "      <td>552126</td>\n",
       "      <td>1475135</td>\n",
       "      <td>ad</td>\n",
       "      <td>False</td>\n",
       "      <td>6</td>\n",
       "      <td>Tuesday</td>\n",
       "      <td>13</td>\n",
       "    </tr>\n",
       "    <tr>\n",
       "      <th>165249</th>\n",
       "      <td>165249</td>\n",
       "      <td>1635331</td>\n",
       "      <td>ad</td>\n",
       "      <td>False</td>\n",
       "      <td>96</td>\n",
       "      <td>Tuesday</td>\n",
       "      <td>19</td>\n",
       "    </tr>\n",
       "    <tr>\n",
       "      <th>290461</th>\n",
       "      <td>290461</td>\n",
       "      <td>1499483</td>\n",
       "      <td>ad</td>\n",
       "      <td>True</td>\n",
       "      <td>119</td>\n",
       "      <td>Saturday</td>\n",
       "      <td>15</td>\n",
       "    </tr>\n",
       "  </tbody>\n",
       "</table>\n",
       "</div>"
      ],
      "text/plain": [
       "        Unnamed: 0  user_id test_group  converted  total_ads most_ads_day  \\\n",
       "60858        60858  1525830         ad      False          5     Saturday   \n",
       "50703        50703  1513094         ad      False         59     Thursday   \n",
       "552126      552126  1475135         ad      False          6      Tuesday   \n",
       "165249      165249  1635331         ad      False         96      Tuesday   \n",
       "290461      290461  1499483         ad       True        119     Saturday   \n",
       "\n",
       "        most_ads_hour  \n",
       "60858              17  \n",
       "50703              10  \n",
       "552126             13  \n",
       "165249             19  \n",
       "290461             15  "
      ]
     },
     "execution_count": 8,
     "metadata": {},
     "output_type": "execute_result"
    }
   ],
   "source": [
    "sample_ad = user_ad.sample(n=770, random_state=1)\n",
    "sample_ad.head()"
   ]
  },
  {
   "cell_type": "code",
   "execution_count": 9,
   "id": "e4ab2028-83a7-4b50-9ad9-b005f75eec07",
   "metadata": {},
   "outputs": [
    {
     "name": "stdout",
     "output_type": "stream",
     "text": [
      "<class 'pandas.core.frame.DataFrame'>\n",
      "Int64Index: 770 entries, 60858 to 8383\n",
      "Data columns (total 7 columns):\n",
      " #   Column         Non-Null Count  Dtype \n",
      "---  ------         --------------  ----- \n",
      " 0   Unnamed: 0     770 non-null    int64 \n",
      " 1   user_id        770 non-null    int64 \n",
      " 2   test_group     770 non-null    object\n",
      " 3   converted      770 non-null    bool  \n",
      " 4   total_ads      770 non-null    int64 \n",
      " 5   most_ads_day   770 non-null    object\n",
      " 6   most_ads_hour  770 non-null    int64 \n",
      "dtypes: bool(1), int64(4), object(2)\n",
      "memory usage: 42.9+ KB\n"
     ]
    }
   ],
   "source": [
    "sample_ad.info()"
   ]
  },
  {
   "cell_type": "code",
   "execution_count": 10,
   "id": "d31c0503-f815-4afa-9c42-ac4d3df800b4",
   "metadata": {},
   "outputs": [
    {
     "data": {
      "text/html": [
       "<div>\n",
       "<style scoped>\n",
       "    .dataframe tbody tr th:only-of-type {\n",
       "        vertical-align: middle;\n",
       "    }\n",
       "\n",
       "    .dataframe tbody tr th {\n",
       "        vertical-align: top;\n",
       "    }\n",
       "\n",
       "    .dataframe thead th {\n",
       "        text-align: right;\n",
       "    }\n",
       "</style>\n",
       "<table border=\"1\" class=\"dataframe\">\n",
       "  <thead>\n",
       "    <tr style=\"text-align: right;\">\n",
       "      <th></th>\n",
       "      <th>Unnamed: 0</th>\n",
       "      <th>user_id</th>\n",
       "      <th>test_group</th>\n",
       "      <th>converted</th>\n",
       "      <th>total_ads</th>\n",
       "      <th>most_ads_day</th>\n",
       "      <th>most_ads_hour</th>\n",
       "    </tr>\n",
       "  </thead>\n",
       "  <tbody>\n",
       "    <tr>\n",
       "      <th>67034</th>\n",
       "      <td>67034</td>\n",
       "      <td>901932</td>\n",
       "      <td>psa</td>\n",
       "      <td>False</td>\n",
       "      <td>139</td>\n",
       "      <td>Saturday</td>\n",
       "      <td>15</td>\n",
       "    </tr>\n",
       "    <tr>\n",
       "      <th>35349</th>\n",
       "      <td>35349</td>\n",
       "      <td>915417</td>\n",
       "      <td>psa</td>\n",
       "      <td>False</td>\n",
       "      <td>6</td>\n",
       "      <td>Friday</td>\n",
       "      <td>0</td>\n",
       "    </tr>\n",
       "    <tr>\n",
       "      <th>62023</th>\n",
       "      <td>62023</td>\n",
       "      <td>917589</td>\n",
       "      <td>psa</td>\n",
       "      <td>False</td>\n",
       "      <td>39</td>\n",
       "      <td>Saturday</td>\n",
       "      <td>13</td>\n",
       "    </tr>\n",
       "    <tr>\n",
       "      <th>546552</th>\n",
       "      <td>546552</td>\n",
       "      <td>900967</td>\n",
       "      <td>psa</td>\n",
       "      <td>False</td>\n",
       "      <td>11</td>\n",
       "      <td>Monday</td>\n",
       "      <td>17</td>\n",
       "    </tr>\n",
       "    <tr>\n",
       "      <th>73802</th>\n",
       "      <td>73802</td>\n",
       "      <td>912104</td>\n",
       "      <td>psa</td>\n",
       "      <td>False</td>\n",
       "      <td>42</td>\n",
       "      <td>Saturday</td>\n",
       "      <td>18</td>\n",
       "    </tr>\n",
       "  </tbody>\n",
       "</table>\n",
       "</div>"
      ],
      "text/plain": [
       "        Unnamed: 0  user_id test_group  converted  total_ads most_ads_day  \\\n",
       "67034        67034   901932        psa      False        139     Saturday   \n",
       "35349        35349   915417        psa      False          6       Friday   \n",
       "62023        62023   917589        psa      False         39     Saturday   \n",
       "546552      546552   900967        psa      False         11       Monday   \n",
       "73802        73802   912104        psa      False         42     Saturday   \n",
       "\n",
       "        most_ads_hour  \n",
       "67034              15  \n",
       "35349               0  \n",
       "62023              13  \n",
       "546552             17  \n",
       "73802              18  "
      ]
     },
     "execution_count": 10,
     "metadata": {},
     "output_type": "execute_result"
    }
   ],
   "source": [
    "sample_psa = user_psa.sample(n=770, random_state=1)\n",
    "sample_psa.head()"
   ]
  },
  {
   "cell_type": "code",
   "execution_count": 11,
   "id": "4e556bd5-1a2d-4391-a219-207d1aac3216",
   "metadata": {},
   "outputs": [
    {
     "name": "stdout",
     "output_type": "stream",
     "text": [
      "<class 'pandas.core.frame.DataFrame'>\n",
      "Int64Index: 770 entries, 67034 to 45333\n",
      "Data columns (total 7 columns):\n",
      " #   Column         Non-Null Count  Dtype \n",
      "---  ------         --------------  ----- \n",
      " 0   Unnamed: 0     770 non-null    int64 \n",
      " 1   user_id        770 non-null    int64 \n",
      " 2   test_group     770 non-null    object\n",
      " 3   converted      770 non-null    bool  \n",
      " 4   total_ads      770 non-null    int64 \n",
      " 5   most_ads_day   770 non-null    object\n",
      " 6   most_ads_hour  770 non-null    int64 \n",
      "dtypes: bool(1), int64(4), object(2)\n",
      "memory usage: 42.9+ KB\n"
     ]
    }
   ],
   "source": [
    "sample_psa.info()"
   ]
  },
  {
   "cell_type": "markdown",
   "id": "a9b58658-b3dc-4f20-b463-32d3bb0de1fd",
   "metadata": {},
   "source": [
    "#### Check Trustworthiness"
   ]
  },
  {
   "cell_type": "code",
   "execution_count": 12,
   "id": "48339d25-e2bd-436c-a873-4c147f215334",
   "metadata": {},
   "outputs": [
    {
     "data": {
      "text/plain": [
       "Unnamed: 0       0\n",
       "user_id          0\n",
       "test_group       0\n",
       "converted        0\n",
       "total_ads        0\n",
       "most_ads_day     0\n",
       "most_ads_hour    0\n",
       "dtype: int64"
      ]
     },
     "execution_count": 12,
     "metadata": {},
     "output_type": "execute_result"
    }
   ],
   "source": [
    "# Checking missing value\n",
    "sample_ad.isna().sum()"
   ]
  },
  {
   "cell_type": "code",
   "execution_count": 13,
   "id": "37e9b7cd-724f-4dde-a14b-186f7ffc0a34",
   "metadata": {},
   "outputs": [
    {
     "data": {
      "text/plain": [
       "Unnamed: 0       0\n",
       "user_id          0\n",
       "test_group       0\n",
       "converted        0\n",
       "total_ads        0\n",
       "most_ads_day     0\n",
       "most_ads_hour    0\n",
       "dtype: int64"
      ]
     },
     "execution_count": 13,
     "metadata": {},
     "output_type": "execute_result"
    }
   ],
   "source": [
    "# Checking missing value\n",
    "sample_psa.isna().sum()"
   ]
  },
  {
   "cell_type": "code",
   "execution_count": 14,
   "id": "7494d745-fb90-41d9-a699-ef6b053383ad",
   "metadata": {},
   "outputs": [
    {
     "name": "stdout",
     "output_type": "stream",
     "text": [
      "Jumlah User_id Grup Ad yang terdapat duplikat     : 0\n",
      "Jumlah User_id Grup Psa yang terdapat duplikat    : 0\n"
     ]
    }
   ],
   "source": [
    "# Checking duplicate data\n",
    "dup_ad = sample_ad.duplicated(['user_id']).sum()\n",
    "dup_psa = sample_psa.duplicated(['user_id']).sum()\n",
    "print(f\"Jumlah User_id Grup Ad yang terdapat duplikat     : {dup_ad}\")\n",
    "print(f\"Jumlah User_id Grup Psa yang terdapat duplikat    : {dup_psa}\")"
   ]
  },
  {
   "cell_type": "code",
   "execution_count": 15,
   "id": "f5a07569-a6c3-4114-9ef0-774668df6cd8",
   "metadata": {},
   "outputs": [
    {
     "name": "stdout",
     "output_type": "stream",
     "text": [
      "Inputan unik test_group Grup Ad yaitu     : ['ad']\n",
      "Inputan unik converted Grup Ad yaitu      : [False  True]\n",
      "Inputan unik most ads days Grup Ad yaitu  : ['Saturday' 'Thursday' 'Tuesday' 'Monday' 'Friday' 'Sunday' 'Wednesday']\n"
     ]
    }
   ],
   "source": [
    "#checking Invalid Value Group Ad\n",
    "tst_grp_ad = sample_ad[\"test_group\"].unique()\n",
    "cnvrtd_ad = sample_ad[\"converted\"].unique()\n",
    "mad_ad = sample_ad[\"most_ads_day\"].unique()\n",
    "print(f\"Inputan unik test_group Grup Ad yaitu     : {tst_grp_ad}\")\n",
    "print(f\"Inputan unik converted Grup Ad yaitu      : {cnvrtd_ad}\")\n",
    "print(f\"Inputan unik most ads days Grup Ad yaitu  : {mad_ad}\")"
   ]
  },
  {
   "cell_type": "code",
   "execution_count": 16,
   "id": "2a74215c-168b-4267-8307-0c7180ae7c39",
   "metadata": {},
   "outputs": [
    {
     "name": "stdout",
     "output_type": "stream",
     "text": [
      "Inputan unik test_group Grup PSA yaitu     : ['psa']\n",
      "Inputan unik converted Grup PSA yaitu      : [False  True]\n",
      "Inputan unik most ads days Grup PSA yaitu  : ['Saturday' 'Friday' 'Monday' 'Sunday' 'Wednesday' 'Thursday' 'Tuesday']\n"
     ]
    }
   ],
   "source": [
    "#checking Invalid Value Group PSA\n",
    "tst_grp_psa = sample_psa[\"test_group\"].unique()\n",
    "cnvrtd_psa = sample_psa[\"converted\"].unique()\n",
    "mad_psa = sample_psa[\"most_ads_day\"].unique()\n",
    "print(f\"Inputan unik test_group Grup PSA yaitu     : {tst_grp_psa}\")\n",
    "print(f\"Inputan unik converted Grup PSA yaitu      : {cnvrtd_psa}\")\n",
    "print(f\"Inputan unik most ads days Grup PSA yaitu  : {mad_psa}\")"
   ]
  },
  {
   "cell_type": "markdown",
   "id": "8860a821-4307-461f-a6eb-bd71f029a5b5",
   "metadata": {},
   "source": [
    "INTERPRETASI\n",
    "\n",
    "Berdasarkan analisis Truthworthiness untuk kedua grup sample yaitu Ad dan PSA diperoleh kesimpulan bahwa tidak terdapat missing value, maupun duplikat data serta untuk isian tiap mkolom telah sisuai. Sehingga dapat dilanjutkan ke analisis Simple Rasio Missmatch (SRM)"
   ]
  },
  {
   "cell_type": "markdown",
   "id": "62f614b7-d080-4591-9211-e9146e5b8fce",
   "metadata": {},
   "source": [
    "#### Simple Ratio Missmatch (SRM)\n",
    "Dilakukan pada Grup PSA sebagai grup control dan Grup Ad sebagai Grup Eksperimen (no SRM Issue karena sample mempunyai rasio yang sama 50 : 50)"
   ]
  },
  {
   "cell_type": "code",
   "execution_count": 17,
   "id": "2f4dd9ef-5f57-444c-8904-7975f4bd43f4",
   "metadata": {},
   "outputs": [
    {
     "data": {
      "text/plain": [
       "770"
      ]
     },
     "execution_count": 17,
     "metadata": {},
     "output_type": "execute_result"
    }
   ],
   "source": [
    "# Number of users in the control group\n",
    "n_control = sample_psa.shape[0]\n",
    "n_control"
   ]
  },
  {
   "cell_type": "code",
   "execution_count": 18,
   "id": "b8ef46af-3b96-4053-9f14-1b45b490137e",
   "metadata": {},
   "outputs": [
    {
     "data": {
      "text/plain": [
       "770"
      ]
     },
     "execution_count": 18,
     "metadata": {},
     "output_type": "execute_result"
    }
   ],
   "source": [
    "# Number of users in the\n",
    "n_treatment = sample_ad.shape[0]\n",
    "n_treatment"
   ]
  },
  {
   "cell_type": "code",
   "execution_count": 19,
   "id": "ec959b11-0bae-4e90-9823-738542cb55d9",
   "metadata": {},
   "outputs": [
    {
     "name": "stdout",
     "output_type": "stream",
     "text": [
      "% control   : 50.00%\n",
      "% treatment : 50.00%\n"
     ]
    }
   ],
   "source": [
    "# Percentage in each group\n",
    "n_total = n_treatment + n_control\n",
    "persen_control = n_control/n_total * 100\n",
    "persen_treat = n_treatment/n_total * 100\n",
    "\n",
    "print(f\"% control   : {persen_control:.2f}%\")\n",
    "print(f\"% treatment : {persen_treat:.2f}%\")"
   ]
  },
  {
   "cell_type": "code",
   "execution_count": 20,
   "id": "1a647a3c-de1b-45f8-9401-41ec9824a10c",
   "metadata": {},
   "outputs": [],
   "source": [
    "observed = [ n_control, n_treatment ]\n",
    "total_show= sum(observed)\n",
    "expected = [ total_show/2, total_show/2 ]"
   ]
  },
  {
   "cell_type": "code",
   "execution_count": 21,
   "id": "2753b493-a9d0-47e5-93f5-04fdcbb78220",
   "metadata": {},
   "outputs": [
    {
     "name": "stdout",
     "output_type": "stream",
     "text": [
      "Critical value: 6.635\n",
      "Fail to reject H0 : No SRM\n"
     ]
    }
   ],
   "source": [
    "#calculate chi-square statistics\n",
    "from scipy.stats import chisquare\n",
    "chi = chisquare(observed, f_exp=expected)\n",
    "\n",
    "# Comparison of chi-square statistics with critical value\n",
    "# We must calculate the critical first\n",
    "\n",
    "# critical value is the chi-square value at alpha\n",
    "alpha = 0.01\n",
    "df=(2-1)*(2-1)  \n",
    "\n",
    "import scipy\n",
    "chi_critical = scipy.stats.chi2.ppf(1 - alpha, df)\n",
    "print(f\"Critical value: {chi_critical:.3f}\")\n",
    "\n",
    "#Make decisions from chi-square statistics and critical value\n",
    "if chi[0] > chi_critical:\n",
    "  print(\"Reject H0 : SRM may be present.\")\n",
    "else:\n",
    "  print(\"Fail to reject H0 : No SRM\")"
   ]
  },
  {
   "cell_type": "markdown",
   "id": "1398e8ec-07b5-43e0-a37b-c44d1da376c1",
   "metadata": {},
   "source": [
    "### Part IV - Analyzing and Interpreting Data"
   ]
  },
  {
   "cell_type": "markdown",
   "id": "17b71890-0495-4e21-9928-9a54a5bece72",
   "metadata": {},
   "source": [
    "#### Menghitung Conversion Rate\n",
    "Sebelum dilakukan analisa A/B testing terlebih dahulu dilakukan analisa perhitungan conversion rate terhadap grup control dan treatment."
   ]
  },
  {
   "cell_type": "code",
   "execution_count": 22,
   "id": "2e7e16b9-ca31-41f9-a16a-b56e4495ad92",
   "metadata": {},
   "outputs": [
    {
     "name": "stdout",
     "output_type": "stream",
     "text": [
      "Jumlah User_id yang convert pada grup control (PSA) adalah sebanyak     : 12\n",
      "Jumlah User_id yang convert pada grup treatment (Ad) adalah sebanyak    : 22\n"
     ]
    }
   ],
   "source": [
    "# Banyak user yang konversi di group Control dan Treatment\n",
    "n_convert_cont = (sample_psa['converted']).value_counts()[True]\n",
    "n_convert_treat = (sample_ad['converted']).value_counts()[True]\n",
    "print(f\"Jumlah User_id yang convert pada grup control (PSA) adalah sebanyak     : {n_convert_cont}\")\n",
    "print(f\"Jumlah User_id yang convert pada grup treatment (Ad) adalah sebanyak    : {n_convert_treat}\")"
   ]
  },
  {
   "cell_type": "code",
   "execution_count": 23,
   "id": "070aecbf-0daa-4f72-b42e-1c0cc0f2ce48",
   "metadata": {},
   "outputs": [
    {
     "name": "stdout",
     "output_type": "stream",
     "text": [
      "Convert rate grup control (PSA)  : 0.016\n",
      "Convert rate grup treatment (Ad) : 0.029\n"
     ]
    }
   ],
   "source": [
    "# Mencari Convert rate Masing-masing grup\n",
    "conv_rate_cont = n_convert_cont/n_control\n",
    "conv_rate_treat = n_convert_treat/n_treatment\n",
    "\n",
    "print(f\"Convert rate grup control (PSA)  : {conv_rate_cont:.3f}\")\n",
    "print(f\"Convert rate grup treatment (Ad) : {conv_rate_treat:.3f}\")"
   ]
  },
  {
   "cell_type": "code",
   "execution_count": 24,
   "id": "ddeb9344-b994-45f8-b851-fda6b7ab22c7",
   "metadata": {},
   "outputs": [
    {
     "name": "stderr",
     "output_type": "stream",
     "text": [
      "C:\\Users\\jkurn\\AppData\\Local\\Temp\\ipykernel_2136\\3692373233.py:12: UserWarning: FixedFormatter should only be used together with FixedLocator\n",
      "  ax.set_xticklabels(labels=[\"control\", \"treatment\"], fontsize=16)\n"
     ]
    },
    {
     "data": {
      "image/png": "[encoded data removed]",
      "text/plain": [
       "<Figure size 720x504 with 1 Axes>"
      ]
     },
     "metadata": {
      "needs_background": "light"
     },
     "output_type": "display_data"
    }
   ],
   "source": [
    "# visualisasi perbandingan convert rate tiap grup\n",
    "import matplotlib.pyplot as plt\n",
    "fig, ax = plt.subplots(nrows=1, ncols=1, figsize=(10, 7))\n",
    "\n",
    "# Buat plot\n",
    "ax.bar(\"control\", conv_rate_cont, label=\"Control\")\n",
    "ax.bar(\"treatment\", conv_rate_treat, label=\"Treatment\")\n",
    "\n",
    "# Styling plot\n",
    "ax.set_ylabel(\"Convert Rate\", fontsize=16)\n",
    "ax.set_xlabel(\"Group\", fontsize=16)\n",
    "ax.set_xticklabels(labels=[\"control\", \"treatment\"], fontsize=16)\n",
    "ax.legend(fontsize=16)\n",
    "plt.show()"
   ]
  },
  {
   "cell_type": "markdown",
   "id": "f0b657f6-c988-48b5-a9e9-3cdc8d5fca57",
   "metadata": {},
   "source": [
    "#### Hipotesis Testing\n",
    "- Kita ingin membuktikan: **convert rate** atau **proporsi** user yang convert **setelah terekspos kampanye iklan terbaru** adalah **lebih besar**  dari **convert rate** atau **proporsi** user yang convert  **dengan kampanye lama yaitu Public Services Announcement (PSA)** \n",
    "- Misal,\n",
    "  - $p_1$ adalah convert rate **treatment** \n",
    "  - $p_2$ adalah convert rate **control**\n",
    "  \n",
    "- Maka kita bisa mendefinisikan Null hypothesis ($H_0$) dan Alternative hypothesis ($H_1$)\n",
    "\n",
    "    $$H_0 : p_1 = p_2$$\n",
    "    $$H_1 : p_1 > p_2$$\n",
    "\n",
    "- Set siginificance level (alpha) pada level 0.05"
   ]
  },
  {
   "cell_type": "markdown",
   "id": "6a372d2d-e3cd-4412-9415-247ccfe7b4c9",
   "metadata": {},
   "source": [
    "#### Menentukan Statistical Test\n",
    "\n",
    "Pada kasus ini adalah menghitung perbedaan proporsi dari dua grup maka statistik uji yang digunakan adalah **Two proportion z-test**\n",
    "Langkah yang dilakukan untuk menguji statistik ini adalah sebagai berikut:\n"
   ]
  },
  {
   "cell_type": "code",
   "execution_count": 25,
   "id": "7df55e05-1e64-44fc-8419-00419f4f364f",
   "metadata": {},
   "outputs": [],
   "source": [
    "# Buat count convert & total observation\n",
    "count_convert = [n_convert_treat, n_convert_cont]\n",
    "count_observation = [n_treatment, n_control]\n",
    "\n",
    "# Buat alternative hipotesis, dalam kasus ini adalah alternative yang lebih besar\n",
    "alternative_option = \"larger\""
   ]
  },
  {
   "cell_type": "code",
   "execution_count": 26,
   "id": "f120935c-75ed-4265-8469-462449f16e16",
   "metadata": {},
   "outputs": [
    {
     "name": "stdout",
     "output_type": "stream",
     "text": [
      "[22, 12]\n",
      "[770, 770]\n"
     ]
    }
   ],
   "source": [
    "print(count_convert)\n",
    "print(count_observation)"
   ]
  },
  {
   "cell_type": "code",
   "execution_count": 27,
   "id": "37f20406-06f8-4914-8a2d-815215e0b8db",
   "metadata": {},
   "outputs": [
    {
     "name": "stdout",
     "output_type": "stream",
     "text": [
      "Z stats : 1.7342\n",
      "P-value : 0.0414\n"
     ]
    }
   ],
   "source": [
    "# Selanjutnya yaitu melakukan pengujian\n",
    "# import library\n",
    "from statsmodels.stats.proportion import proportions_ztest\n",
    "\n",
    "# Panggil fungsi\n",
    "z_stat, p_value = proportions_ztest(count = count_convert,\n",
    "                                       nobs = count_observation,\n",
    "                                       alternative = alternative_option)\n",
    "\n",
    "print(f\"Z stats : {z_stat:.4f}\")\n",
    "print(f\"P-value : {p_value:.4f}\")"
   ]
  },
  {
   "cell_type": "markdown",
   "id": "7e630eaa-78fd-49b7-98bb-dc815e8ea071",
   "metadata": {},
   "source": [
    "#### Membuat Aturan Keputusan"
   ]
  },
  {
   "cell_type": "code",
   "execution_count": 28,
   "id": "cc3f72e0-1af9-4679-ab77-ebda27e6a504",
   "metadata": {},
   "outputs": [
    {
     "name": "stdout",
     "output_type": "stream",
     "text": [
      "z critical value : 1.6449\n"
     ]
    }
   ],
   "source": [
    "from scipy import stats\n",
    "\n",
    "# critical value\n",
    "alpha= 0.05\n",
    "z_crit = stats.norm.ppf(1-alpha)\n",
    "\n",
    "print(f\"z critical value : {z_crit:.4f}\")"
   ]
  },
  {
   "cell_type": "code",
   "execution_count": 29,
   "id": "1a96dd13-9ed6-4c01-a1b0-9bdd363c7afe",
   "metadata": {},
   "outputs": [
    {
     "name": "stdout",
     "output_type": "stream",
     "text": [
      "Menolak H0 : terdapat perbedaan conversion rate antara orang yang terekspose kampanye iklan  terbaru akan lebih tinggi dengan orang yang terekspos kampannye PSA\n"
     ]
    }
   ],
   "source": [
    "#Melakukan pengambilan keputusan dari z-stats dan z-crit\n",
    "if z_stat > z_crit:\n",
    "  print(\"Menolak H0 : terdapat perbedaan conversion rate antara orang yang terekspose kampanye iklan\\\n",
    "  terbaru akan lebih tinggi dengan orang yang terekspos kampannye PSA\")\n",
    "else:\n",
    "  print(\"Menerima H0 : tidak terdapat perbedaan conversion rate antara orang yang terekspose kampanye\\\n",
    "  iklan terbaru dengan orang yang terekspos kampannye PSA\")"
   ]
  },
  {
   "cell_type": "code",
   "execution_count": 30,
   "id": "233f0b7e-c74f-4f11-adbd-c0be51c9c5e1",
   "metadata": {},
   "outputs": [
    {
     "name": "stdout",
     "output_type": "stream",
     "text": [
      "Menolak H0 : terdapat perbedaan conversion rate antara orang yang terekspose kampanye iklan  terbaru akan lebih tinggi dengan orang yang terekspos kampannye PSA\n"
     ]
    }
   ],
   "source": [
    "# Perbandingan P-Value dengan alpha.\n",
    "if p_value<0.05:\n",
    "  print(\"Menolak H0 : terdapat perbedaan conversion rate antara orang yang terekspose kampanye iklan\\\n",
    "  terbaru akan lebih tinggi dengan orang yang terekspos kampannye PSA\")\n",
    "else:\n",
    "  print(\"Menerima H0 : tidak terdapat perbedaan conversion rate antara orang yang terekspose kampanye\\\n",
    "  iklan terbaru dengan orang yang terekspos kampannye PSA\")"
   ]
  },
  {
   "cell_type": "markdown",
   "id": "3fadbc88-98bc-4889-b389-dbabf258dbf1",
   "metadata": {},
   "source": [
    "#### Visualisai Hasil Keputusan"
   ]
  },
  {
   "cell_type": "code",
   "execution_count": 31,
   "id": "1da5db1d-535a-4ab6-b262-225d18446412",
   "metadata": {},
   "outputs": [
    {
     "data": {
      "image/png": "[encoded data removed]",
      "text/plain": [
       "<Figure size 720x504 with 1 Axes>"
      ]
     },
     "metadata": {
      "needs_background": "light"
     },
     "output_type": "display_data"
    },
    {
     "name": "stdout",
     "output_type": "stream",
     "text": [
      "z statistics : 1.7342\n",
      "z critical : 1.6449\n"
     ]
    }
   ],
   "source": [
    "fig = plt.subplots(nrows=1, ncols=1, figsize=(10, 7))\n",
    "\n",
    "# plot sample distribution \n",
    "x = np.arange(-4, 4, 0.001)\n",
    "plt.plot(x, stats.norm.pdf(x, 0, 1), \n",
    "         color='blue')\n",
    "\n",
    "# plot alpha region\n",
    "x_alpha = np.arange(z_crit,4, 0.01)\n",
    "y_alpha = stats.norm.pdf(x_alpha)\n",
    "plt.fill_between(x = x_alpha, \n",
    "                 y1 = y_alpha,\n",
    "                 facecolor = 'red',\n",
    "                 alpha = 0.35, \n",
    "                 label = 'alpha')\n",
    "\n",
    "# plot pvalue\n",
    "x_pvalue = np.arange(z_stat,4, 0.01)\n",
    "y_pvalue = stats.norm.pdf(x_pvalue)\n",
    "plt.fill_between(x = x_pvalue, \n",
    "                 y1 = y_pvalue,\n",
    "                 facecolor = 'green',\n",
    "                 alpha = 0.35, \n",
    "                 label = 'pvalue')\n",
    "\n",
    "# plot z-crit and z-stats\n",
    "plt.axvline(np.round(z_stat, 4), \n",
    "            color =\"green\", \n",
    "            linestyle = \"--\", \n",
    "            label =\"z-stat\")\n",
    "\n",
    "plt.axvline(z_crit, \n",
    "            color =\"red\", \n",
    "            linestyle = \"--\", \n",
    "            label =\"z-crit\")\n",
    "\n",
    "plt.legend()\n",
    "plt.xlabel(\"z\")\n",
    "plt.ylabel(\"density\")\n",
    "plt.show()\n",
    "\n",
    "print(f\"z statistics : {z_stat:.4f}\")\n",
    "print(f\"z critical : {z_crit:.4f}\")"
   ]
  },
  {
   "cell_type": "markdown",
   "id": "6af558e9-f354-4093-b865-1293282ad538",
   "metadata": {},
   "source": [
    "#### Menghitung Confidence Interval"
   ]
  },
  {
   "cell_type": "code",
   "execution_count": 32,
   "id": "e4f93b8d-61c7-4204-adda-1bde468e4539",
   "metadata": {},
   "outputs": [
    {
     "name": "stdout",
     "output_type": "stream",
     "text": [
      "(-0.0019786518209872796, 0.02876490654499006)\n"
     ]
    }
   ],
   "source": [
    "from statsmodels.stats.proportion import confint_proportions_2indep\n",
    "\n",
    "confidence_interval = confint_proportions_2indep(count1 = n_convert_treat, nobs1 = n_treatment,\n",
    "                                                 count2 = n_convert_cont, nobs2 = n_control, \n",
    "                                                 compare='diff', alpha=0.05)\n",
    "print(confidence_interval)"
   ]
  },
  {
   "cell_type": "markdown",
   "id": "bdd5e813-6cff-4551-b2dc-dceca551bcc7",
   "metadata": {},
   "source": [
    "### Part V - Interpretation and Recommendation"
   ]
  },
  {
   "cell_type": "markdown",
   "id": "a968078a-af62-443c-bf5d-05b695dbf1bb",
   "metadata": {},
   "source": [
    "#### Interpretasi Kesimpulan"
   ]
  },
  {
   "cell_type": "markdown",
   "id": "f0e20acf-3be8-46e5-9b24-1d85c6f9d5a4",
   "metadata": {},
   "source": [
    "Dengan tingkat keyakinan 95%, terdapat perbedaan yang signifikan bahwa tingkat konversi (convert rate) orang yang tertekspose oleh kampanye iklan baru (treatment) cenderung **lebih tinggi** dibandingkan dibaidngkan dengan orang yang masih terekspose pleh Public Services Announcem,ent (contorl).\n",
    "\n",
    "Selain itu, hasil confidence interval sebesar 95% bahwa selisih atau difference proporsi orang yang convert (convert rate) pada grup treatment (Ads) dan kontrol (PSA) terletak antara -0.002 dan 0.028 yang artinya bahwa peningkatan convert rate orang yang terekspos kampanye iklan baru (treatment) meningkat bisa manurun mnaksimal 0.002 dan meningkat sampai 0.028. Nilai negatif ini akan menjadi bahasan pada bab rekomendasi.\n"
   ]
  },
  {
   "cell_type": "markdown",
   "id": "ecf1beff-a368-4f9d-a4d2-3893a045e04a",
   "metadata": {},
   "source": [
    "#### Rekomendasi"
   ]
  },
  {
   "cell_type": "markdown",
   "id": "c8f132a8-1fd1-4d36-9985-384ebc82c520",
   "metadata": {},
   "source": [
    "Rekomendasi untuk marketplace : berdasarkan hasil statistical test hasilnya adalah **statistically significant**, namun untuk membuat keputusan apakah akan tetap menggunakan iklan terbaru atau tidak, harus dipastikan apakah secara **practically sigificant** seperti biaya untuk produksi, biaya penayangan yang seharusnya dapat tercover oleh kenaikan maksimal sebesar 0.028.\n",
    "\n",
    "Confidence Interval yang negatif ini desebabkan oleh nilai p-value yang hampir mendekati taraf signifikansi, hal itu dapat disebabkan oleh:\n",
    "- Ukuran sampel yang digunakan,\n",
    "- Proporsi sampel yang digunakan (Sample Ratio Missmatch pada dataset)\n",
    "- Cara pengambilan sampel (randomisasi)\n",
    "\n",
    "Sampel saat ini yang dibuat adalah sebesar 770 sampel, sementara dataset yang tersedia berkisatr 500rb. Maka perlu dibuat perbnadingan apabila menggunakan sampel kecil hingga seluruh dataset."
   ]
  },
  {
   "cell_type": "markdown",
   "id": "31d36d83-32de-43d2-9ce4-7e2d120723c7",
   "metadata": {},
   "source": [
    "**Penggunaan 50 Sampel**"
   ]
  },
  {
   "cell_type": "code",
   "execution_count": 33,
   "id": "9fc8f2c6-cdf2-45c1-8b80-70e8bed8f715",
   "metadata": {},
   "outputs": [
    {
     "name": "stdout",
     "output_type": "stream",
     "text": [
      "Orang yang convert  : [4, 1]\n",
      "Observasi           : [50, 50]\n",
      "Convert rate (PSA)  : 0.020\n",
      "Convert rate (Ad)   : 0.080\n",
      "Z stats             : 1.3765\n",
      "P-value             : 0.0843\n",
      "Confidence_interval : (-0.037799313717036265, 0.16962534201371)\n"
     ]
    }
   ],
   "source": [
    "# Ambil 100 sampel\n",
    "sample_ad_50 = user_ad.sample(n=50, random_state=1)\n",
    "sample_psa_50 = user_psa.sample(n=50, random_state=1)\n",
    "\n",
    "# Hitung User Convert\n",
    "n_convert_cont_50 = (sample_psa_50['converted']).value_counts()[True]\n",
    "n_convert_treat_50 = (sample_ad_50['converted']).value_counts()[True]\n",
    "\n",
    "# Hitung total user per grup\n",
    "n_control_50 = sample_psa_50.shape[0]\n",
    "n_treatment_50 = sample_ad_50.shape[0]\n",
    "\n",
    "# Mencari Convert rate Masing-masing grup\n",
    "conv_rate_cont_50 = n_convert_cont_50/n_control_50\n",
    "conv_rate_treat_50 = n_convert_treat_50/n_treatment_50\n",
    "\n",
    "# Buat count convert & total observation\n",
    "count_convert_50 = [n_convert_treat_50, n_convert_cont_50]\n",
    "count_observation_50 = [n_treatment_50, n_control_50]\n",
    "\n",
    "# Buat alternative hipotesis, dalam kasus ini adalah alternative yang lebih besar\n",
    "alternative_option = \"larger\"\n",
    "\n",
    "# Melakukan Pengujian\n",
    "z_stat, p_value = proportions_ztest(count = count_convert_50,\n",
    "                                       nobs = count_observation_50,\n",
    "                                       alternative = alternative_option)\n",
    "\n",
    "\n",
    "#Menghitung Confidence Interval\n",
    "confidence_interval_50 = confint_proportions_2indep(count1 = n_convert_treat_50, nobs1 = n_treatment_50,\n",
    "                                                 count2 = n_convert_cont_50, nobs2 = n_control_50, \n",
    "                                                 compare='diff', alpha=0.05)\n",
    "\n",
    "\n",
    "print(f\"Orang yang convert  : {count_convert_50}\")\n",
    "print(f\"Observasi           : {count_observation_50}\")\n",
    "print(f\"Convert rate (PSA)  : {conv_rate_cont_50:.3f}\")\n",
    "print(f\"Convert rate (Ad)   : {conv_rate_treat_50:.3f}\")\n",
    "print(f\"Z stats             : {z_stat:.4f}\")\n",
    "print(f\"P-value             : {p_value:.4f}\")\n",
    "print(f\"Confidence_interval : {confidence_interval_50}\")"
   ]
  },
  {
   "cell_type": "markdown",
   "id": "24f5dc20-d926-44e3-8604-9fe46ff99d03",
   "metadata": {},
   "source": [
    "**Penggunaan All Sampel**"
   ]
  },
  {
   "cell_type": "code",
   "execution_count": 34,
   "id": "5d8639eb-f8e9-41ba-9b84-0832edff8683",
   "metadata": {},
   "outputs": [
    {
     "name": "stdout",
     "output_type": "stream",
     "text": [
      "Orang yang convert  : [14423, 420]\n",
      "Observasi           : [564577, 23524]\n",
      "Convert rate (PSA)  : 0.01785410644448223\n",
      "Convert rate (Ad)   : 0.025546559636683747\n",
      "Z stats             : 7.3701\n",
      "P-value             : 8.526403580779863e-14\n",
      "Confidence_interval : (0.005872331745829211, 0.009361237095548102)\n"
     ]
    }
   ],
   "source": [
    "# Hitung User Convert\n",
    "n_convert_cont_all = (user_psa['converted']).value_counts()[True]\n",
    "n_convert_treat_all = (user_ad['converted']).value_counts()[True]\n",
    "\n",
    "# Hitung total user per grup\n",
    "n_control_all = user_psa.shape[0]\n",
    "n_treatment_all = user_ad.shape[0]\n",
    "\n",
    "# Mencari Convert rate Masing-masing grup\n",
    "conv_rate_cont_all = n_convert_cont_all/n_control_all\n",
    "conv_rate_treat_all = n_convert_treat_all/n_treatment_all\n",
    "\n",
    "# Buat count convert & total observation\n",
    "count_convert_all = [n_convert_treat_all, n_convert_cont_all]\n",
    "count_observation_all = [n_treatment_all, n_control_all]\n",
    "\n",
    "# Buat alternative hipotesis, dalam kasus ini adalah alternative yang lebih besar\n",
    "alternative_option = \"larger\"\n",
    "\n",
    "# Melakukan Pengujian\n",
    "z_stat, p_value = proportions_ztest(count = count_convert_all,\n",
    "                                       nobs = count_observation_all,\n",
    "                                       alternative = alternative_option)\n",
    "\n",
    "\n",
    "#Menghitung Confidence Interval\n",
    "confidence_interval_all = confint_proportions_2indep(count1 = n_convert_treat_all, nobs1 = n_treatment_all,\n",
    "                                                 count2 = n_convert_cont_all, nobs2 = n_control_all, \n",
    "                                                 compare='diff', alpha=0.05)\n",
    "\n",
    "\n",
    "print(f\"Orang yang convert  : {count_convert_all}\")\n",
    "print(f\"Observasi           : {count_observation_all}\")\n",
    "print(f\"Convert rate (PSA)  : {conv_rate_cont_all}\")\n",
    "print(f\"Convert rate (Ad)   : {conv_rate_treat_all}\")\n",
    "print(f\"Z stats             : {z_stat:.4f}\")\n",
    "print(f\"P-value             : {p_value}\")\n",
    "print(f\"Confidence_interval : {confidence_interval_all}\")"
   ]
  },
  {
   "cell_type": "markdown",
   "id": "c2a7a385-b424-49b5-a7a9-0d435849b5e2",
   "metadata": {},
   "source": [
    "**Rangkuman Tabel**"
   ]
  },
  {
   "cell_type": "markdown",
   "id": "8e7c50fe-912f-4a25-a8cd-033db1be2390",
   "metadata": {},
   "source": [
    "<center>\n",
    "\n",
    "|Ukuran sampel|PSA convert|PSA Obs|Psa Conv Rate|Ads convert|Ads Obs|Ads Conv Rate|P-value|Confidence Interval|\n",
    "|:--|:--:|:--:|:--:|:--|:--:|:--:|:--:|:--:|\n",
    "|50 sampel|1|50|0.02|4|50|0.08|0.0843|(-0.037, 0.169)|\n",
    "|770 sampel|12|770|0.016|22|770|0.029|0.0414|(-0.001, 0.028)|\n",
    "|All sampel|420|23.524|0.017|14.423|564.577|0.025|8.52e-14|(0.005, 0.0093)|\n",
    "\n",
    "</center>"
   ]
  },
  {
   "cell_type": "markdown",
   "id": "e17a8b87-5b0b-4759-bb82-8fcc97ae509d",
   "metadata": {},
   "source": [
    "Dari perbandingan tabel perbedaan jumlah sampel dapat terlihat bahwa semakin besar sampel menunjukkan perbedaan convert rate yang hampir sama dan p-value signifikan serta confidence interval positif. Hal yang menjadi perhatian lainnya adalah jumlah sampel atau proporsi antara grup control dan tereatment berbeda jauh. Hal ini akan dibuktikan dengan analisis SRM untuk seluruh dataset."
   ]
  },
  {
   "cell_type": "code",
   "execution_count": 35,
   "id": "8bfd7a4c-edad-4ed2-82ca-24718730e2a9",
   "metadata": {},
   "outputs": [
    {
     "name": "stdout",
     "output_type": "stream",
     "text": [
      "Critical value: 6.635\n",
      "Reject H0 : SRM may be present.\n"
     ]
    }
   ],
   "source": [
    "observed_all = [ n_control_all, n_treatment_all ]\n",
    "total_show_all = sum(observed_all)\n",
    "expected_all = [ total_show_all/2, total_show_all/2 ]\n",
    "\n",
    "#calculate chi-square statistics\n",
    "from scipy.stats import chisquare\n",
    "chi_all = chisquare(observed_all, f_exp=expected_all)\n",
    "\n",
    "# Comparison of chi-square statistics with critical value\n",
    "# We must calculate the critical first\n",
    "\n",
    "# critical value is the chi-square value at alpha\n",
    "alpha = 0.01\n",
    "df=(2-1)*(2-1)  \n",
    "\n",
    "import scipy\n",
    "chi_critical_all = scipy.stats.chi2.ppf(1 - alpha, df)\n",
    "print(f\"Critical value: {chi_critical_all:.3f}\")\n",
    "\n",
    "#Make decisions from chi-square statistics and critical value\n",
    "if chi_all[0] > chi_critical_all:\n",
    "  print(\"Reject H0 : SRM may be present.\")\n",
    "else:\n",
    "  print(\"Fail to reject H0 : No SRM\")"
   ]
  }
 ],
 "metadata": {
  "kernelspec": {
   "display_name": "Python 3 (ipykernel)",
   "language": "python",
   "name": "python3"
  },
  "language_info": {
   "codemirror_mode": {
    "name": "ipython",
    "version": 3
   },
   "file_extension": ".py",
   "mimetype": "text/x-python",
   "name": "python",
   "nbconvert_exporter": "python",
   "pygments_lexer": "ipython3",
   "version": "3.9.12"
  }
 },
 "nbformat": 4,
 "nbformat_minor": 5
}
